{
  "nbformat": 4,
  "nbformat_minor": 0,
  "metadata": {
    "colab": {
      "name": "trainning_ssd_googlecolab",
      "provenance": [],
      "collapsed_sections": [],
      "authorship_tag": "ABX9TyNOWwYAV9CcQF/YudT3FM84",
      "include_colab_link": true
    },
    "kernelspec": {
      "name": "python3",
      "display_name": "Python 3"
    },
    "language_info": {
      "name": "python"
    },
    "accelerator": "GPU"
  },
  "cells": [
    {
      "cell_type": "markdown",
      "metadata": {
        "id": "view-in-github",
        "colab_type": "text"
      },
      "source": [
        "<a href=\"https://colab.research.google.com/github/nam157/ai4theblind/blob/main/trainning_ssd_google_colab.ipynb\" target=\"_parent\"><img src=\"https://colab.research.google.com/assets/colab-badge.svg\" alt=\"Open In Colab\"/></a>"
      ]
    },
    {
      "cell_type": "code",
      "source": [
        "!git clone https://github.com/nam157/ai4theblind.git"
      ],
      "metadata": {
        "id": "RNunbK5GAekY",
        "colab": {
          "base_uri": "https://localhost:8080/"
        },
        "outputId": "c3f96a89-ab67-4863-eec6-238a7801da52"
      },
      "execution_count": 1,
      "outputs": [
        {
          "output_type": "stream",
          "name": "stdout",
          "text": [
            "Cloning into 'ai4theblind'...\n",
            "remote: Enumerating objects: 98, done.\u001b[K\n",
            "remote: Counting objects: 100% (98/98), done.\u001b[K\n",
            "remote: Compressing objects: 100% (88/88), done.\u001b[K\n",
            "remote: Total 98 (delta 19), reused 55 (delta 3), pack-reused 0\u001b[K\n",
            "Unpacking objects: 100% (98/98), done.\n"
          ]
        }
      ]
    },
    {
      "cell_type": "markdown",
      "source": [
        "Vào thư mục /content/ai4theblind/object_detection/data/data_loader/prepare_data.py thay đổi đường dẫn data"
      ],
      "metadata": {
        "id": "p5Ruc-DXNK7j"
      }
    },
    {
      "cell_type": "code",
      "source": [
        "exec(open(\"/content/ai4theblind/object_detection/data/data_loader/prepare_data.py\").read())"
      ],
      "metadata": {
        "id": "yZfUGiu3HJFC"
      },
      "execution_count": 2,
      "outputs": []
    },
    {
      "cell_type": "code",
      "source": [
        "import sys\n",
        "sys.path.insert(0,'/content/ai4theblind/object_detection/')"
      ],
      "metadata": {
        "id": "9jQkOlT8JJDK"
      },
      "execution_count": 3,
      "outputs": []
    },
    {
      "cell_type": "code",
      "source": [
        "from lib import *\n",
        "from data.data_loader.make_datapath import make_datapath_list\n",
        "from data.data_loader.dataset import MyDataset, my_collate_fn\n",
        "from data.data_loader.transform import DataTransform\n",
        "from data.data_loader.extract_inform_annotation import Anno_xml\n",
        "from models.model import SSD\n",
        "from multiboxloss import MultiBoxLoss"
      ],
      "metadata": {
        "id": "f3kfmy2HJbT7"
      },
      "execution_count": 6,
      "outputs": []
    },
    {
      "cell_type": "markdown",
      "source": [
        "Vào thư mục /content/ai4theblind/object_detection/train.py thay đổi đường dẫn data"
      ],
      "metadata": {
        "id": "QifvJPecNZrT"
      }
    },
    {
      "cell_type": "code",
      "source": [
        "exec(open(\"/content/ai4theblind/object_detection/train.py\").read())"
      ],
      "metadata": {
        "colab": {
          "base_uri": "https://localhost:8080/",
          "height": 1000
        },
        "id": "hINqraADJban",
        "outputId": "f69881ec-3645-4350-f01b-117f94b42983"
      },
      "execution_count": 10,
      "outputs": [
        {
          "output_type": "stream",
          "name": "stdout",
          "text": [
            "device: cuda:0\n",
            "------------------------------------------------------------\n",
            "Epoch 1/100\n",
            "------------------------------------------------------------\n",
            "(Training)\n",
            "Iteration 10 || Loss: 13.7560 || 10iter: 44.1761 sec\n",
            "Iteration 20 || Loss: 11.3202 || 10iter: 25.9741 sec\n",
            "Iteration 30 || Loss: 9.4597 || 10iter: 26.1511 sec\n",
            "Iteration 40 || Loss: 9.2536 || 10iter: 25.8716 sec\n",
            "Iteration 50 || Loss: 8.5851 || 10iter: 25.5727 sec\n",
            "Iteration 60 || Loss: 9.7283 || 10iter: 26.1049 sec\n",
            "Iteration 70 || Loss: 8.3734 || 10iter: 25.4139 sec\n",
            "Iteration 80 || Loss: 7.7353 || 10iter: 26.1543 sec\n",
            "Iteration 90 || Loss: 8.2029 || 10iter: 25.8012 sec\n",
            "Iteration 100 || Loss: 7.7810 || 10iter: 25.6069 sec\n",
            "Iteration 110 || Loss: 7.8765 || 10iter: 25.9338 sec\n",
            "Iteration 120 || Loss: 7.1752 || 10iter: 25.7861 sec\n",
            "Iteration 130 || Loss: 7.3571 || 10iter: 25.7995 sec\n",
            "Iteration 140 || Loss: 8.8291 || 10iter: 26.2560 sec\n",
            "Iteration 150 || Loss: 7.5254 || 10iter: 25.9218 sec\n",
            "Iteration 160 || Loss: 8.4612 || 10iter: 26.4164 sec\n",
            "Iteration 170 || Loss: 7.5758 || 10iter: 25.9161 sec\n",
            "------------------------------------------------------------\n",
            "Epoch 1 || epoch_train_loss: 1644.3337 || Epoch_val_loss: 0.0000\n",
            "Duration: 518.2756 sec\n",
            "------------------------------------------------------------\n",
            "Epoch 2/100\n",
            "------------------------------------------------------------\n",
            "(Training)\n",
            "Iteration 180 || Loss: 7.6410 || 10iter: 1.3750 sec\n",
            "Iteration 190 || Loss: 7.2453 || 10iter: 25.4953 sec\n",
            "Iteration 200 || Loss: 7.0702 || 10iter: 25.9245 sec\n",
            "Iteration 210 || Loss: 7.8836 || 10iter: 25.4825 sec\n",
            "Iteration 220 || Loss: 7.4087 || 10iter: 25.5926 sec\n",
            "Iteration 230 || Loss: 6.7384 || 10iter: 25.3296 sec\n",
            "Iteration 240 || Loss: 7.6155 || 10iter: 25.6368 sec\n",
            "Iteration 250 || Loss: 7.1764 || 10iter: 25.9749 sec\n",
            "Iteration 260 || Loss: 7.5935 || 10iter: 25.6697 sec\n",
            "Iteration 270 || Loss: 6.8875 || 10iter: 25.6558 sec\n",
            "Iteration 280 || Loss: 6.4429 || 10iter: 25.8282 sec\n",
            "Iteration 290 || Loss: 7.2237 || 10iter: 25.9216 sec\n",
            "Iteration 300 || Loss: 7.1272 || 10iter: 26.3943 sec\n",
            "Iteration 310 || Loss: 6.9673 || 10iter: 26.0694 sec\n",
            "Iteration 320 || Loss: 6.6794 || 10iter: 25.7100 sec\n",
            "Iteration 330 || Loss: 7.0210 || 10iter: 26.2869 sec\n",
            "Iteration 340 || Loss: 7.1528 || 10iter: 26.1736 sec\n",
            "Iteration 350 || Loss: 6.9649 || 10iter: 26.2591 sec\n",
            "------------------------------------------------------------\n",
            "Epoch 2 || epoch_train_loss: 1291.2747 || Epoch_val_loss: 0.0000\n",
            "Duration: 484.6093 sec\n",
            "------------------------------------------------------------\n",
            "Epoch 3/100\n",
            "------------------------------------------------------------\n",
            "(Training)\n",
            "Iteration 360 || Loss: 6.9039 || 10iter: 4.0152 sec\n",
            "Iteration 370 || Loss: 6.5011 || 10iter: 24.9879 sec\n",
            "Iteration 380 || Loss: 7.2752 || 10iter: 24.9988 sec\n",
            "Iteration 390 || Loss: 6.9528 || 10iter: 25.5414 sec\n",
            "Iteration 400 || Loss: 6.5714 || 10iter: 25.4104 sec\n",
            "Iteration 410 || Loss: 6.8273 || 10iter: 25.5711 sec\n",
            "Iteration 420 || Loss: 6.8214 || 10iter: 25.3959 sec\n",
            "Iteration 430 || Loss: 7.5082 || 10iter: 25.3985 sec\n",
            "Iteration 440 || Loss: 6.7393 || 10iter: 25.5313 sec\n",
            "Iteration 450 || Loss: 6.7191 || 10iter: 24.9616 sec\n",
            "Iteration 460 || Loss: 6.2934 || 10iter: 25.8171 sec\n",
            "Iteration 470 || Loss: 6.6810 || 10iter: 25.4634 sec\n",
            "Iteration 480 || Loss: 6.2818 || 10iter: 25.0559 sec\n",
            "Iteration 490 || Loss: 6.7957 || 10iter: 25.4453 sec\n",
            "Iteration 500 || Loss: 6.3594 || 10iter: 25.6506 sec\n",
            "Iteration 510 || Loss: 6.4281 || 10iter: 25.6127 sec\n",
            "Iteration 520 || Loss: 6.3812 || 10iter: 25.4955 sec\n",
            "Iteration 530 || Loss: 6.6541 || 10iter: 25.0141 sec\n",
            "------------------------------------------------------------\n",
            "Epoch 3 || epoch_train_loss: 1183.1209 || Epoch_val_loss: 0.0000\n",
            "Duration: 476.0498 sec\n",
            "------------------------------------------------------------\n",
            "Epoch 4/100\n",
            "------------------------------------------------------------\n",
            "(Training)\n",
            "Iteration 540 || Loss: 6.5002 || 10iter: 6.7320 sec\n",
            "Iteration 550 || Loss: 6.4152 || 10iter: 24.9166 sec\n",
            "Iteration 560 || Loss: 6.2918 || 10iter: 25.3036 sec\n",
            "Iteration 570 || Loss: 6.3007 || 10iter: 25.4638 sec\n",
            "Iteration 580 || Loss: 6.2266 || 10iter: 25.2318 sec\n",
            "Iteration 590 || Loss: 6.2864 || 10iter: 24.9151 sec\n",
            "Iteration 600 || Loss: 6.0561 || 10iter: 25.0777 sec\n",
            "Iteration 610 || Loss: 6.0409 || 10iter: 25.0727 sec\n",
            "Iteration 620 || Loss: 6.2802 || 10iter: 25.2026 sec\n",
            "Iteration 630 || Loss: 5.8961 || 10iter: 25.0487 sec\n",
            "Iteration 640 || Loss: 6.1863 || 10iter: 25.2068 sec\n",
            "Iteration 650 || Loss: 6.2573 || 10iter: 25.2080 sec\n",
            "Iteration 660 || Loss: 5.7889 || 10iter: 25.0661 sec\n",
            "Iteration 670 || Loss: 5.9031 || 10iter: 25.3118 sec\n",
            "Iteration 680 || Loss: 6.2033 || 10iter: 25.0884 sec\n",
            "Iteration 690 || Loss: 6.2718 || 10iter: 25.1283 sec\n",
            "Iteration 700 || Loss: 6.4298 || 10iter: 25.4586 sec\n",
            "Iteration 710 || Loss: 5.9330 || 10iter: 25.1957 sec\n",
            "------------------------------------------------------------\n",
            "Epoch 4 || epoch_train_loss: 1118.3848 || Epoch_val_loss: 0.0000\n",
            "Duration: 472.4449 sec\n",
            "------------------------------------------------------------\n",
            "Epoch 5/100\n",
            "------------------------------------------------------------\n",
            "(Training)\n",
            "Iteration 720 || Loss: 6.1643 || 10iter: 9.3736 sec\n",
            "Iteration 730 || Loss: 6.1253 || 10iter: 25.2585 sec\n",
            "Iteration 740 || Loss: 5.6942 || 10iter: 25.6790 sec\n",
            "Iteration 750 || Loss: 6.4340 || 10iter: 24.9434 sec\n",
            "Iteration 760 || Loss: 5.4000 || 10iter: 25.7617 sec\n",
            "Iteration 770 || Loss: 5.6515 || 10iter: 25.2002 sec\n",
            "Iteration 780 || Loss: 5.9354 || 10iter: 25.0231 sec\n",
            "Iteration 790 || Loss: 6.0859 || 10iter: 25.4527 sec\n",
            "Iteration 800 || Loss: 6.1106 || 10iter: 25.5343 sec\n",
            "Iteration 810 || Loss: 6.1615 || 10iter: 25.3704 sec\n",
            "Iteration 820 || Loss: 6.8975 || 10iter: 25.4101 sec\n",
            "Iteration 830 || Loss: 6.3505 || 10iter: 24.8923 sec\n",
            "Iteration 840 || Loss: 5.7207 || 10iter: 25.1176 sec\n",
            "Iteration 850 || Loss: 5.8887 || 10iter: 25.5279 sec\n",
            "Iteration 860 || Loss: 5.7274 || 10iter: 25.5529 sec\n",
            "Iteration 870 || Loss: 6.2534 || 10iter: 25.0702 sec\n",
            "Iteration 880 || Loss: 5.7427 || 10iter: 25.3513 sec\n",
            "Iteration 890 || Loss: 6.1986 || 10iter: 25.6532 sec\n",
            "------------------------------------------------------------\n",
            "Epoch 5 || epoch_train_loss: 1073.0839 || Epoch_val_loss: 0.0000\n",
            "Duration: 475.9898 sec\n",
            "------------------------------------------------------------\n",
            "Epoch 6/100\n",
            "------------------------------------------------------------\n",
            "(Training)\n",
            "Iteration 900 || Loss: 5.5840 || 10iter: 11.9058 sec\n",
            "Iteration 910 || Loss: 5.5198 || 10iter: 25.1949 sec\n",
            "Iteration 920 || Loss: 5.0518 || 10iter: 25.2942 sec\n",
            "Iteration 930 || Loss: 5.8449 || 10iter: 25.7870 sec\n",
            "Iteration 940 || Loss: 6.0477 || 10iter: 25.4441 sec\n",
            "Iteration 950 || Loss: 5.3710 || 10iter: 25.2988 sec\n",
            "Iteration 960 || Loss: 5.6172 || 10iter: 24.8764 sec\n",
            "Iteration 970 || Loss: 5.9401 || 10iter: 25.1299 sec\n",
            "Iteration 980 || Loss: 6.0556 || 10iter: 25.3821 sec\n",
            "Iteration 990 || Loss: 6.1803 || 10iter: 25.1662 sec\n",
            "Iteration 1000 || Loss: 5.6636 || 10iter: 25.1471 sec\n",
            "Iteration 1010 || Loss: 6.0097 || 10iter: 25.1701 sec\n",
            "Iteration 1020 || Loss: 5.7463 || 10iter: 25.1106 sec\n",
            "Iteration 1030 || Loss: 5.2640 || 10iter: 25.5033 sec\n",
            "Iteration 1040 || Loss: 5.7624 || 10iter: 25.0993 sec\n"
          ]
        },
        {
          "output_type": "error",
          "ename": "KeyboardInterrupt",
          "evalue": "ignored",
          "traceback": [
            "\u001b[0;31m---------------------------------------------------------------------------\u001b[0m",
            "\u001b[0;31mKeyboardInterrupt\u001b[0m                         Traceback (most recent call last)",
            "\u001b[0;32m<ipython-input-10-c7c0a45d7fc1>\u001b[0m in \u001b[0;36m<module>\u001b[0;34m()\u001b[0m\n\u001b[0;32m----> 1\u001b[0;31m \u001b[0mexec\u001b[0m\u001b[0;34m(\u001b[0m\u001b[0mopen\u001b[0m\u001b[0;34m(\u001b[0m\u001b[0;34m\"/content/ai4theblind/object_detection/train.py\"\u001b[0m\u001b[0;34m)\u001b[0m\u001b[0;34m.\u001b[0m\u001b[0mread\u001b[0m\u001b[0;34m(\u001b[0m\u001b[0;34m)\u001b[0m\u001b[0;34m)\u001b[0m\u001b[0;34m\u001b[0m\u001b[0;34m\u001b[0m\u001b[0m\n\u001b[0m",
            "\u001b[0;32m<string>\u001b[0m in \u001b[0;36m<module>\u001b[0;34m()\u001b[0m\n",
            "\u001b[0;32m<string>\u001b[0m in \u001b[0;36mtrain_model\u001b[0;34m(net, dataloader_dict, criterion, optimizer, num_epochs)\u001b[0m\n",
            "\u001b[0;32m/usr/local/lib/python3.7/dist-packages/torch/nn/modules/module.py\u001b[0m in \u001b[0;36m_call_impl\u001b[0;34m(self, *input, **kwargs)\u001b[0m\n\u001b[1;32m   1100\u001b[0m         if not (self._backward_hooks or self._forward_hooks or self._forward_pre_hooks or _global_backward_hooks\n\u001b[1;32m   1101\u001b[0m                 or _global_forward_hooks or _global_forward_pre_hooks):\n\u001b[0;32m-> 1102\u001b[0;31m             \u001b[0;32mreturn\u001b[0m \u001b[0mforward_call\u001b[0m\u001b[0;34m(\u001b[0m\u001b[0;34m*\u001b[0m\u001b[0minput\u001b[0m\u001b[0;34m,\u001b[0m \u001b[0;34m**\u001b[0m\u001b[0mkwargs\u001b[0m\u001b[0;34m)\u001b[0m\u001b[0;34m\u001b[0m\u001b[0;34m\u001b[0m\u001b[0m\n\u001b[0m\u001b[1;32m   1103\u001b[0m         \u001b[0;31m# Do not call functions when jit is used\u001b[0m\u001b[0;34m\u001b[0m\u001b[0;34m\u001b[0m\u001b[0;34m\u001b[0m\u001b[0m\n\u001b[1;32m   1104\u001b[0m         \u001b[0mfull_backward_hooks\u001b[0m\u001b[0;34m,\u001b[0m \u001b[0mnon_full_backward_hooks\u001b[0m \u001b[0;34m=\u001b[0m \u001b[0;34m[\u001b[0m\u001b[0;34m]\u001b[0m\u001b[0;34m,\u001b[0m \u001b[0;34m[\u001b[0m\u001b[0;34m]\u001b[0m\u001b[0;34m\u001b[0m\u001b[0;34m\u001b[0m\u001b[0m\n",
            "\u001b[0;32m/content/ai4theblind/object_detection/multiboxloss.py\u001b[0m in \u001b[0;36mforward\u001b[0;34m(self, predictions, targets)\u001b[0m\n\u001b[1;32m     22\u001b[0m         \u001b[0mnum_classes\u001b[0m \u001b[0;34m=\u001b[0m \u001b[0mconf_data\u001b[0m\u001b[0;34m.\u001b[0m\u001b[0msize\u001b[0m\u001b[0;34m(\u001b[0m\u001b[0;36m2\u001b[0m\u001b[0;34m)\u001b[0m\u001b[0;34m\u001b[0m\u001b[0;34m\u001b[0m\u001b[0m\n\u001b[1;32m     23\u001b[0m \u001b[0;34m\u001b[0m\u001b[0m\n\u001b[0;32m---> 24\u001b[0;31m         \u001b[0mconf_t_label\u001b[0m \u001b[0;34m=\u001b[0m \u001b[0mtorch\u001b[0m\u001b[0;34m.\u001b[0m\u001b[0mLongTensor\u001b[0m\u001b[0;34m(\u001b[0m\u001b[0mnum_batch\u001b[0m\u001b[0;34m,\u001b[0m \u001b[0mnum_dbox\u001b[0m\u001b[0;34m)\u001b[0m\u001b[0;34m.\u001b[0m\u001b[0mto\u001b[0m\u001b[0;34m(\u001b[0m\u001b[0mself\u001b[0m\u001b[0;34m.\u001b[0m\u001b[0mdevice\u001b[0m\u001b[0;34m)\u001b[0m\u001b[0;34m\u001b[0m\u001b[0;34m\u001b[0m\u001b[0m\n\u001b[0m\u001b[1;32m     25\u001b[0m         \u001b[0mloc_t\u001b[0m \u001b[0;34m=\u001b[0m \u001b[0mtorch\u001b[0m\u001b[0;34m.\u001b[0m\u001b[0mTensor\u001b[0m\u001b[0;34m(\u001b[0m\u001b[0mnum_batch\u001b[0m\u001b[0;34m,\u001b[0m \u001b[0mnum_dbox\u001b[0m\u001b[0;34m,\u001b[0m \u001b[0;36m4\u001b[0m\u001b[0;34m)\u001b[0m\u001b[0;34m.\u001b[0m\u001b[0mto\u001b[0m\u001b[0;34m(\u001b[0m\u001b[0mself\u001b[0m\u001b[0;34m.\u001b[0m\u001b[0mdevice\u001b[0m\u001b[0;34m)\u001b[0m\u001b[0;34m\u001b[0m\u001b[0;34m\u001b[0m\u001b[0m\n\u001b[1;32m     26\u001b[0m \u001b[0;34m\u001b[0m\u001b[0m\n",
            "\u001b[0;31mKeyboardInterrupt\u001b[0m: "
          ]
        }
      ]
    },
    {
      "cell_type": "code",
      "source": [
        ""
      ],
      "metadata": {
        "id": "KHh6aX32JJGp"
      },
      "execution_count": null,
      "outputs": []
    },
    {
      "cell_type": "code",
      "source": [
        ""
      ],
      "metadata": {
        "id": "ByZRJN-DJJJ0"
      },
      "execution_count": null,
      "outputs": []
    }
  ]
}