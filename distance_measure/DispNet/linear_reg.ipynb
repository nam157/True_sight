{
 "cells": [
  {
   "cell_type": "code",
   "execution_count": 2,
   "id": "cdd5a06f",
   "metadata": {},
   "outputs": [],
   "source": [
    "from sklearn.linear_model import LinearRegression\n",
    "import numpy as np\n",
    "from sklearn.ensemble import RandomForestRegressor\n",
    "import pickle\n",
    "import matplotlib.pyplot as plt"
   ]
  },
  {
   "cell_type": "code",
   "execution_count": 28,
   "id": "6460d3df",
   "metadata": {},
   "outputs": [
    {
     "name": "stdout",
     "output_type": "stream",
     "text": [
      "[[ 57.]\n",
      " [ 56.]\n",
      " [ 32.]\n",
      " [ 26.]\n",
      " [ 18.]\n",
      " [ 32.]\n",
      " [ 16.]\n",
      " [ 68.]\n",
      " [ 13.]\n",
      " [117.]\n",
      " [107.]\n",
      " [123.]\n",
      " [108.]]\n",
      "\n",
      "[120 160 160 200 200 240 240 280 280  20  40  40  80]\n"
     ]
    }
   ],
   "source": [
    "x = [57.0, 56.0, 32.0, 26.0, 18.0, 32.0, 16.0, 68.0, 13.0, 117.0, 107.0, 123.0, 108.0]\n",
    "y = [120,160,160,200,200,240,240,280,280,20,40,40,80]\n",
    "\n",
    "ls = []\n",
    "for i in x:\n",
    "    ls.append([i])\n",
    "X = np.array(ls)\n",
    "y = np.array(y)\n",
    "print(X)\n",
    "print()\n",
    "print(y)"
   ]
  },
  {
   "cell_type": "code",
   "execution_count": 29,
   "id": "3ee5e25a",
   "metadata": {},
   "outputs": [
    {
     "name": "stdout",
     "output_type": "stream",
     "text": [
      "[133.05333333 152.25333333 201.38666667 204.78666667 214.4\n",
      " 201.38666667 233.6        214.65333333 264.8         30.6\n",
      "  53.4         39.          67.4       ]\n"
     ]
    }
   ],
   "source": [
    "model = RandomForestRegressor().fit(X,y)\n",
    "print(model.predict(X))\n",
    "filename = 'model_distance.sav'\n",
    "pickle.dump(model, open(filename, 'wb'))"
   ]
  },
  {
   "cell_type": "code",
   "execution_count": 30,
   "id": "9fc7d3d1",
   "metadata": {},
   "outputs": [
    {
     "data": {
      "text/plain": [
       "[<matplotlib.lines.Line2D at 0x24ed779ee80>]"
      ]
     },
     "execution_count": 30,
     "metadata": {},
     "output_type": "execute_result"
    },
    {
     "data": {
      "image/png": "[encoded data removed]",
      "text/plain": [
       "<Figure size 432x288 with 1 Axes>"
      ]
     },
     "metadata": {
      "needs_background": "light"
     },
     "output_type": "display_data"
    }
   ],
   "source": [
    "plt.plot(X,y,'ro')\n",
    "plt.plot(X,model.predict(X))"
   ]
  },
  {
   "cell_type": "code",
   "execution_count": 32,
   "id": "46417740",
   "metadata": {},
   "outputs": [
    {
     "data": {
      "text/plain": [
       "array([53.4])"
      ]
     },
     "execution_count": 32,
     "metadata": {},
     "output_type": "execute_result"
    }
   ],
   "source": [
    "def depth_to_distance(depth):\n",
    "    loaded_model = pickle.load(open('model_distance.sav', 'rb'))\n",
    "\n",
    "    return loaded_model.predict(np.array([[depth]]))\n",
    "depth_to_distance(100)"
   ]
  },
  {
   "cell_type": "code",
   "execution_count": 15,
   "id": "3d937bac",
   "metadata": {},
   "outputs": [
    {
     "data": {
      "text/plain": [
       "array([262.8])"
      ]
     },
     "execution_count": 15,
     "metadata": {},
     "output_type": "execute_result"
    }
   ],
   "source": [
    "loaded_model = pickle.load(open('model_distance.sav', 'rb'))\n",
    "loaded_model.predict(np.array([[0.8561749]]))"
   ]
  },
  {
   "cell_type": "markdown",
   "id": "d9f3bffb",
   "metadata": {},
   "source": [
    "# Phần 1"
   ]
  },
  {
   "cell_type": "code",
   "execution_count": 20,
   "id": "d2d3d7d1",
   "metadata": {},
   "outputs": [
    {
     "name": "stdout",
     "output_type": "stream",
     "text": [
      "[163.08275655 164.96012639 210.01700271 221.28122179 236.30018056\n",
      " 210.01700271 240.05492025 142.43168823 245.68702979  50.44056575\n",
      "  69.21426422  39.17634667  67.33689437]\n",
      "[-1.87736985]\n",
      "270.0928377971712\n"
     ]
    }
   ],
   "source": [
    "reg = LinearRegression().fit(X, y)\n",
    "print(reg.predict(X))\n",
    "print(reg.coef_)\n",
    "print(reg.intercept_)"
   ]
  },
  {
   "cell_type": "code",
   "execution_count": 21,
   "id": "867987e0",
   "metadata": {},
   "outputs": [
    {
     "data": {
      "text/plain": [
       "[<matplotlib.lines.Line2D at 0x24ed9a8fe20>]"
      ]
     },
     "execution_count": 21,
     "metadata": {},
     "output_type": "execute_result"
    },
    {
     "data": {
      "image/png": "[encoded data removed]",
      "text/plain": [
       "<Figure size 432x288 with 1 Axes>"
      ]
     },
     "metadata": {
      "needs_background": "light"
     },
     "output_type": "display_data"
    }
   ],
   "source": [
    "plt.plot(X,y,'ro')\n",
    "plt.plot(X,reg.predict(X))"
   ]
  },
  {
   "cell_type": "markdown",
   "id": "7428e485",
   "metadata": {},
   "source": [
    "# Phần 2"
   ]
  },
  {
   "cell_type": "code",
   "execution_count": 22,
   "id": "20814d30",
   "metadata": {},
   "outputs": [
    {
     "data": {
      "text/plain": [
       "array([179.84021347, 181.47174018, 214.04139918, 220.2077193 ,\n",
       "       227.19990946, 214.04139918, 228.72839093, 160.44428356,\n",
       "       230.85643858,  41.76801983,  70.26920386,  23.61339228,\n",
       "        67.51789019])"
      ]
     },
     "execution_count": 22,
     "metadata": {},
     "output_type": "execute_result"
    }
   ],
   "source": [
    "from sklearn.preprocessing import PolynomialFeatures\n",
    "#Tăng lên bậc 2\n",
    "poly_features = PolynomialFeatures(degree=2, include_bias=False)\n",
    "X_poly = poly_features.fit_transform(X)\n",
    "#Traning dữ liệu ban đầu và dữ liệu bậc 2\n",
    "lin_reg = LinearRegression()\n",
    "lin_reg.fit(X_poly, y)\n",
    "lin_reg.predict(X_poly)"
   ]
  },
  {
   "cell_type": "code",
   "execution_count": 23,
   "id": "91b545f4",
   "metadata": {},
   "outputs": [
    {
     "data": {
      "text/plain": [
       "array([[5.7000e+01, 3.2490e+03],\n",
       "       [5.6000e+01, 3.1360e+03],\n",
       "       [3.2000e+01, 1.0240e+03],\n",
       "       [2.6000e+01, 6.7600e+02],\n",
       "       [1.8000e+01, 3.2400e+02],\n",
       "       [3.2000e+01, 1.0240e+03],\n",
       "       [1.6000e+01, 2.5600e+02],\n",
       "       [6.8000e+01, 4.6240e+03],\n",
       "       [1.3000e+01, 1.6900e+02],\n",
       "       [1.1700e+02, 1.3689e+04],\n",
       "       [1.0700e+02, 1.1449e+04],\n",
       "       [1.2300e+02, 1.5129e+04],\n",
       "       [1.0800e+02, 1.1664e+04]])"
      ]
     },
     "execution_count": 23,
     "metadata": {},
     "output_type": "execute_result"
    }
   ],
   "source": [
    "X_poly"
   ]
  },
  {
   "cell_type": "code",
   "execution_count": 24,
   "id": "73fd781a",
   "metadata": {},
   "outputs": [
    {
     "data": {
      "text/plain": [
       "[<matplotlib.lines.Line2D at 0x24ed99099a0>]"
      ]
     },
     "execution_count": 24,
     "metadata": {},
     "output_type": "execute_result"
    },
    {
     "data": {
      "image/png": "[encoded data removed]",
      "text/plain": [
       "<Figure size 432x288 with 1 Axes>"
      ]
     },
     "metadata": {
      "needs_background": "light"
     },
     "output_type": "display_data"
    }
   ],
   "source": [
    "plt.plot(X,y,'ro')\n",
    "plt.plot(X,lin_reg.predict(X_poly))"
   ]
  },
  {
   "cell_type": "code",
   "execution_count": 25,
   "id": "72297946",
   "metadata": {},
   "outputs": [
    {
     "data": {
      "text/plain": [
       "array([-0.39097842, -0.0109783 ])"
      ]
     },
     "execution_count": 25,
     "metadata": {},
     "output_type": "execute_result"
    }
   ],
   "source": [
    "w = lin_reg.coef_\n",
    "w"
   ]
  },
  {
   "cell_type": "code",
   "execution_count": 26,
   "id": "86b6ad04",
   "metadata": {},
   "outputs": [
    {
     "data": {
      "text/plain": [
       "237.79449128116184"
      ]
     },
     "execution_count": 26,
     "metadata": {},
     "output_type": "execute_result"
    }
   ],
   "source": [
    "lin_reg.intercept_"
   ]
  },
  {
   "cell_type": "code",
   "execution_count": 27,
   "id": "92367ee9",
   "metadata": {},
   "outputs": [
    {
     "data": {
      "text/plain": [
       "array([179.84021347, 181.47174018, 214.04139918, 220.2077193 ,\n",
       "       227.19990946, 214.04139918, 228.72839093, 160.44428356,\n",
       "       230.85643858,  41.76801983,  70.26920386,  23.61339228,\n",
       "        67.51789019])"
      ]
     },
     "execution_count": 27,
     "metadata": {},
     "output_type": "execute_result"
    }
   ],
   "source": [
    "w[0] * X_poly[:,0] + w[1]*X_poly[:,1] + lin_reg.intercept_"
   ]
  },
  {
   "cell_type": "code",
   "execution_count": 16,
   "id": "12864039",
   "metadata": {},
   "outputs": [
    {
     "data": {
      "text/plain": [
       "array([120, 120, 160, 160, 200, 200, 240, 240, 280, 280,  20,  40,  40,\n",
       "        80])"
      ]
     },
     "execution_count": 16,
     "metadata": {},
     "output_type": "execute_result"
    }
   ],
   "source": [
    "y"
   ]
  },
  {
   "cell_type": "code",
   "execution_count": null,
   "id": "b6fba58b",
   "metadata": {},
   "outputs": [],
   "source": []
  },
  {
   "cell_type": "code",
   "execution_count": 4,
   "id": "2dff0249",
   "metadata": {},
   "outputs": [
    {
     "name": "stdout",
     "output_type": "stream",
     "text": [
      "[[0.977324  ]\n",
      " [0.95016436]\n",
      " [0.93316172]\n",
      " [0.932     ]\n",
      " [0.88763   ]\n",
      " [0.874376  ]\n",
      " [0.84453   ]\n",
      " [0.732     ]\n",
      " [0.7563    ]\n",
      " [0.7       ]\n",
      " [0.68      ]\n",
      " [0.65      ]\n",
      " [0.623545  ]\n",
      " [0.58564   ]\n",
      " [0.54235   ]\n",
      " [0.513353  ]\n",
      " [0.452     ]\n",
      " [0.4       ]\n",
      " [0.3832    ]\n",
      " [0.35362   ]\n",
      " [0.25      ]\n",
      " [0.21253   ]\n",
      " [0.18235   ]\n",
      " [0.14523   ]\n",
      " [0.10123   ]\n",
      " [0.01456   ]\n",
      " [0.0531    ]]\n",
      "\n",
      "[ 10  16  26  30  35  40  43  46  50  54  57  60  63  68  73  76  78  82\n",
      "  84  86  88  92  96  98 100 116 120]\n"
     ]
    }
   ],
   "source": [
    "x = [0.977324,0.9501643632884477,0.9331617226559781,0.932,0.88763,0.874376,0.84453,0.732,0.7563,0.7,0.68,0.65,0.623545,0.58564,0.54235,0.513353,0.452,0.4,0.3832,0.35362,0.25,0.21253,0.18235,0.14523,0.10123,0.01456,0.0531]\n",
    "y = [10,16,26,30,35,40,43,46,50,54,57,60,63,68,73,76,78,82,84,86,88,92,96,98,100,116,120]\n",
    "\n",
    "ls = []\n",
    "for i in x:\n",
    "    ls.append([i])\n",
    "X = np.array(ls)\n",
    "y = np.array(y)\n",
    "print(X)\n",
    "print()\n",
    "print(y)"
   ]
  },
  {
   "cell_type": "code",
   "execution_count": 5,
   "id": "1e831994",
   "metadata": {},
   "outputs": [
    {
     "data": {
      "text/plain": [
       "array([ 20.25298745,  23.80479573,  25.99836268,  26.14739846,\n",
       "        31.75896246,  33.40475152,  37.05949721,  50.19997224,\n",
       "        47.44792494,  53.75218911,  55.93083183,  59.13895049,\n",
       "        61.90838969,  65.77913985,  70.05955577,  72.84308439,\n",
       "        78.5114259 ,  83.0804864 ,  84.51052992,  86.97369255,\n",
       "        95.05159115,  97.76171698,  99.86311585, 102.34806939,\n",
       "       105.15119284, 110.2208693 , 108.04051593])"
      ]
     },
     "execution_count": 5,
     "metadata": {},
     "output_type": "execute_result"
    }
   ],
   "source": [
    "from sklearn.preprocessing import PolynomialFeatures\n",
    "#Tăng lên bậc 2\n",
    "poly_features = PolynomialFeatures(degree=2, include_bias=False)\n",
    "X_poly = poly_features.fit_transform(X)\n",
    "#Traning dữ liệu ban đầu và dữ liệu bậc 2\n",
    "lin_reg = LinearRegression()\n",
    "lin_reg.fit(X_poly, y)\n",
    "lin_reg.predict(X_poly)"
   ]
  },
  {
   "cell_type": "code",
   "execution_count": 6,
   "id": "9622e7b9",
   "metadata": {},
   "outputs": [
    {
     "name": "stdout",
     "output_type": "stream",
     "text": [
      "[-53.87434965 -39.89694666]\n"
     ]
    },
    {
     "data": {
      "text/plain": [
       "111.01373772611525"
      ]
     },
     "execution_count": 6,
     "metadata": {},
     "output_type": "execute_result"
    }
   ],
   "source": [
    "w = lin_reg.coef_\n",
    "print(w)\n",
    "lin_reg.intercept_"
   ]
  },
  {
   "cell_type": "code",
   "execution_count": null,
   "id": "c0b45185",
   "metadata": {},
   "outputs": [],
   "source": []
  },
  {
   "cell_type": "code",
   "execution_count": null,
   "id": "7cc5019c",
   "metadata": {},
   "outputs": [],
   "source": []
  }
 ],
 "metadata": {
  "kernelspec": {
   "display_name": "Python 3 (ipykernel)",
   "language": "python",
   "name": "python3"
  },
  "language_info": {
   "codemirror_mode": {
    "name": "ipython",
    "version": 3
   },
   "file_extension": ".py",
   "mimetype": "text/x-python",
   "name": "python",
   "nbconvert_exporter": "python",
   "pygments_lexer": "ipython3",
   "version": "3.9.7"
  }
 },
 "nbformat": 4,
 "nbformat_minor": 5
}
