{
 "cells": [
  {
   "cell_type": "code",
   "execution_count": 1,
   "id": "423e8e4b",
   "metadata": {},
   "outputs": [],
   "source": [
    "import cv2"
   ]
  },
  {
   "cell_type": "code",
   "execution_count": 2,
   "id": "78305f7d",
   "metadata": {},
   "outputs": [
    {
     "ename": "SystemError",
     "evalue": "<class 'cv2.CascadeClassifier'> returned a result with an error set",
     "output_type": "error",
     "traceback": [
      "\u001b[1;31m---------------------------------------------------------------------------\u001b[0m",
      "\u001b[1;31merror\u001b[0m                                     Traceback (most recent call last)",
      "\u001b[1;31merror\u001b[0m: OpenCV(4.5.4) D:\\a\\opencv-python\\opencv-python\\opencv\\modules\\core\\src\\persistence_xml.cpp:677: error: (-212:Parsing error) cv::XMLParser::parseTag in function 'haarcascade_frontalface_default.xml(33315): Tag should start with '<''\n",
      "\nThe above exception was the direct cause of the following exception:\n",
      "\u001b[1;31mSystemError\u001b[0m                               Traceback (most recent call last)",
      "\u001b[1;32m~\\AppData\\Local\\Temp/ipykernel_9604/2061218768.py\u001b[0m in \u001b[0;36m<module>\u001b[1;34m\u001b[0m\n\u001b[0;32m      1\u001b[0m \u001b[1;31m#Nhận diện khung mặt\u001b[0m\u001b[1;33m\u001b[0m\u001b[1;33m\u001b[0m\u001b[0m\n\u001b[1;32m----> 2\u001b[1;33m \u001b[0mface_detecter\u001b[0m  \u001b[1;33m=\u001b[0m \u001b[0mcv2\u001b[0m\u001b[1;33m.\u001b[0m\u001b[0mCascadeClassifier\u001b[0m\u001b[1;33m(\u001b[0m\u001b[1;34m\"haarcascade_frontalface_default.xml\"\u001b[0m\u001b[1;33m)\u001b[0m\u001b[1;33m\u001b[0m\u001b[1;33m\u001b[0m\u001b[0m\n\u001b[0m",
      "\u001b[1;31mSystemError\u001b[0m: <class 'cv2.CascadeClassifier'> returned a result with an error set"
     ]
    }
   ],
   "source": [
    "#Nhận diện khung mặt \n",
    "face_detecter  = cv2.CascadeClassifier(\"haarcascade_frontalface_default.xml\")"
   ]
  },
  {
   "cell_type": "code",
   "execution_count": 3,
   "id": "0371aaa3",
   "metadata": {},
   "outputs": [],
   "source": [
    "#Tính toán độ dài tiêu cự\n",
    "'''\n",
    "measure_distance: Đó là khoảng cách được đo từ đối tượng đến camera trong khi chụp ảnh tham chiếu\n",
    "real_width: Nó là chiều rộng thực tế của đối tượng, trong thế giới thực (giống như chiều rộng khuôn mặt của tôi là = 14,3 cm\n",
    "width_in_rf_image: là chiều rộng đối tượng trong khung / hình ảnh trong trường hợp của chúng tôi trong hình ảnh tham chiếu\n",
    "(được tìm thấy bằng máy dò khuôn mặt)\n",
    "'''\n",
    "def focal_length(measure_distance,real_width,width_in_rf_image):\n",
    "    return (width_in_rf_image * measure_distance) / real_width"
   ]
  },
  {
   "cell_type": "code",
   "execution_count": 4,
   "id": "ea04a601",
   "metadata": {},
   "outputs": [],
   "source": [
    "#Tính ước lượng khoảng cách\n",
    "def distance_estimation(focal_length,real_width,width_in_rf_image):\n",
    "    return (focal_length * real_width) / width_in_rf_image"
   ]
  },
  {
   "cell_type": "code",
   "execution_count": 5,
   "id": "a219a468",
   "metadata": {},
   "outputs": [],
   "source": [
    "#Hàm nhận diện khuôn mặt\n",
    "def face_detection(img):\n",
    "    face_width = 0\n",
    "    gray_image = cv2.cvtColor(img, cv2.COLOR_BGR2GRAY)\n",
    "    faces = face_detecter.detectMultiScale(gray_image, 1.3, 5)\n",
    "    for (x, y, h, w) in faces:\n",
    "        cv2.rectangle(img, (x, y), (x + w, y + h), (0,0,255), 1)\n",
    "        face_width = w\n",
    "    return face_width"
   ]
  },
  {
   "cell_type": "code",
   "execution_count": 6,
   "id": "9a9bb4f0",
   "metadata": {},
   "outputs": [
    {
     "name": "stdout",
     "output_type": "stream",
     "text": [
      "288.0\n"
     ]
    },
    {
     "data": {
      "text/plain": [
       "113"
      ]
     },
     "execution_count": 6,
     "metadata": {},
     "output_type": "execute_result"
    }
   ],
   "source": [
    "ref_image = cv2.imread(\"Screenshot 2022-02-19 231000.png\")\n",
    "\n",
    "ref_image_face_width = face_detection(ref_image)\n",
    "focal_length_found = focal_length(20, 15, ref_image_face_width)\n",
    "print(focal_length_found)\n",
    "cv2.imshow(\"ref_image\", ref_image)\n",
    "cv2.waitKey(0)"
   ]
  },
  {
   "cell_type": "code",
   "execution_count": 9,
   "id": "85da4e97",
   "metadata": {},
   "outputs": [],
   "source": [
    "measure_distance = 20\n",
    "width = 15\n",
    "\n",
    "cap = cv2.VideoCapture(0)\n",
    "while True:\n",
    "    ret,frame = cap.read()\n",
    "    \n",
    "    face_width_image = face_detection(frame)\n",
    "    \n",
    "    if face_width_image != 0:\n",
    "        distance =  distance_estimation(focal_length_found,width,face_width_image)\n",
    "        cv2.putText(\n",
    "            frame, f\"Distance = {round(distance,2)} CM\", (50, 50), 3, 1, (0,0,255), 2\n",
    "        )\n",
    "    \n",
    "    cv2.imshow('Video',frame)\n",
    "    if cv2.waitKey(1) == ord(\"q\"):\n",
    "        break\n",
    "cap.release()\n",
    "cv2.destroyAllWindows()"
   ]
  },
  {
   "cell_type": "code",
   "execution_count": null,
   "id": "a3b158c5",
   "metadata": {},
   "outputs": [],
   "source": []
  }
 ],
 "metadata": {
  "kernelspec": {
   "display_name": "Python 3 (ipykernel)",
   "language": "python",
   "name": "python3"
  },
  "language_info": {
   "codemirror_mode": {
    "name": "ipython",
    "version": 3
   },
   "file_extension": ".py",
   "mimetype": "text/x-python",
   "name": "python",
   "nbconvert_exporter": "python",
   "pygments_lexer": "ipython3",
   "version": "3.9.7"
  }
 },
 "nbformat": 4,
 "nbformat_minor": 5
}
